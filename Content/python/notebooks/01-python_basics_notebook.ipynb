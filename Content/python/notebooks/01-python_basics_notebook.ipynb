{
  "cells": [
    {
      "cell_type": "markdown",
      "metadata": {
        "id": "tdbYWFytfZ6o"
      },
      "source": [
        "# 🐍 Python Basics for DevOps\n",
        "\n",
        "> *This is an interactive companion to the Python basics guide*\n",
        "\n",
        "**To run a cell:** Click the ▶️ button on the left or press `Shift + Enter`\n",
        "\n",
        "---"
      ]
    },
    {
      "cell_type": "markdown",
      "metadata": {
        "id": "ZT7TqUTRfZ6q"
      },
      "source": [
        "# 📊 Variables and Data Types\n",
        "\n",
        "Python uses dynamic typing - no need to declare types in advance!\n",
        "\n",
        "✨ **When you run this example:** You'll see different data types printed with their values. These are the building blocks you'll use to store configuration data, server information, and more in your DevOps scripts."
      ]
    },
    {
      "cell_type": "code",
      "execution_count": null,
      "metadata": {
        "id": "ldu2EGOefZ6r"
      },
      "outputs": [],
      "source": [
        "name = \"DevOps-Zero2Hero\"                  # String (text)\n",
        "count = 42                                 # Integer (whole number)\n",
        "pi = 3.14                                  # Float (decimal)\n",
        "active = True                              # Boolean (true/false)\n",
        "items = [1, \"two\", 3.0]                    # List (ordered collection)\n",
        "config = (\"environment\", \"dev\")            # Tuple (immutable collection)\n",
        "settings = {\"mode\": \"test\", \"level\": 1}    # Dictionary (key-value pairs)\n",
        "\n",
        "print(\"String:\", name)\n",
        "print(\"Integer:\", count)\n",
        "print(\"Float:\", pi)\n",
        "print(\"Boolean:\", active)\n",
        "print(\"List:\", items)\n",
        "print(\"Tuple:\", config)\n",
        "print(\"Dictionary:\", settings)"
      ]
    },
    {
      "cell_type": "markdown",
      "metadata": {
        "id": "5GpnpBo6ftnM"
      },
      "source": [
        "---"
      ]
    },
    {
      "cell_type": "markdown",
      "metadata": {
        "id": "HZWCXUkGfZ6s"
      },
      "source": [
        "# 🚥 Control Flow\n",
        "\n",
        "### Control flow determines the execution path of your code."
      ]
    },
    {
      "cell_type": "markdown",
      "metadata": {
        "id": "OUGImqStfZ6s"
      },
      "source": [
        "## 🔀 If-else example\n",
        "\n",
        "If-else statements let your code make decisions based on certain conditions, executing different code blocks depending on whether a condition is true or false.\n",
        "\n",
        "✨ **Output:** The message \"Count is greater than 10\" appears because 15 > 10.\n",
        "\n",
        "🔍 **Try changing** the value to 5 and see how the result changes."
      ]
    },
    {
      "cell_type": "code",
      "execution_count": null,
      "metadata": {
        "id": "WEqRHgAzfZ6s"
      },
      "outputs": [],
      "source": [
        "count = 15\n",
        "if count > 10:\n",
        "    print(\"Count is greater than 10\")\n",
        "else:\n",
        "    print(\"Count is 10 or less\")"
      ]
    },
    {
      "cell_type": "markdown",
      "metadata": {
        "id": "9kDr4JpKfjN2"
      },
      "source": [
        " <br>"
      ]
    },
    {
      "cell_type": "markdown",
      "metadata": {
        "id": "uIxDvqLFfZ6t"
      },
      "source": [
        "## 🔁 Loop examples"
      ]
    },
    {
      "cell_type": "markdown",
      "metadata": {
        "id": "JzKC-q5tfZ6t"
      },
      "source": [
        "### 📋 For Loop\n",
        "\n",
        "For loops iterate through each item in a collection (like lists or dictionaries), executing the same code block once for each item.\n",
        "\n",
        "\n",
        "✨ **Output:** Numbers 1, 2, and 3 printed on separate lines as Python processes each item in the list."
      ]
    },
    {
      "cell_type": "code",
      "execution_count": null,
      "metadata": {
        "id": "KWQhRbRBfZ6t"
      },
      "outputs": [],
      "source": [
        "items = [1, 2, 3]\n",
        "for item in items:\n",
        "    print(item)"
      ]
    },
    {
      "cell_type": "markdown",
      "metadata": {
        "id": "v_xGpiJzfZ6t"
      },
      "source": [
        "### ⏱️ While Loop\n",
        "\n",
        "While loops repeatedly execute a code block as long as a specified condition remains true, stopping once the condition becomes false.\n",
        "\n",
        "✨ **Output:** Numbers 0, 1, and 2 as the counter increases until the condition is false."
      ]
    },
    {
      "cell_type": "code",
      "execution_count": null,
      "metadata": {
        "id": "lJ2b6HBDfZ6u"
      },
      "outputs": [],
      "source": [
        "i = 0\n",
        "while i < 3:\n",
        "    print(i)\n",
        "    i += 1"
      ]
    },
    {
      "cell_type": "markdown",
      "metadata": {
        "id": "L6Pr3yHifZ6u"
      },
      "source": [
        "### 🛡️ Error Handling\n",
        "\n",
        "Try-except blocks allow your code to attempt risky operations and gracefully handle any errors that occur instead of crashing.\n",
        "\n",
        "> Why do we need this? <br>\n",
        "> - instead of crashing and stopping our code, we can use the except block to run a different process that either shut the code down gracefully or send the user back to a previous point in the code.\n",
        "\n",
        "\n",
        "✨ **Output:** \"Cannot divide by zero\" - Python catches the error instead of crashing.\n",
        "\n",
        "This is crucial for robust DevOps scripts that need to handle unexpected situations!"
      ]
    },
    {
      "cell_type": "code",
      "execution_count": null,
      "metadata": {
        "id": "Kva8qmSZfZ6u"
      },
      "outputs": [],
      "source": [
        "try:\n",
        "    result = 10 / 0\n",
        "except ZeroDivisionError:\n",
        "    print(\"Cannot divide by zero\")"
      ]
    },
    {
      "cell_type": "markdown",
      "metadata": {
        "id": "57MnFztBgwPo"
      },
      "source": [
        "A Python crash message would look like this:\n",
        "\n"
      ]
    },
    {
      "cell_type": "code",
      "execution_count": 4,
      "metadata": {
        "colab": {
          "base_uri": "https://localhost:8080/",
          "height": 211
        },
        "id": "d_9DE3RRgv2w",
        "outputId": "cdfa24fe-1058-44ad-8925-2b2c88f8a849"
      },
      "outputs": [
        {
          "ename": "ZeroDivisionError",
          "evalue": "division by zero",
          "output_type": "error",
          "traceback": [
            "\u001b[0;31m---------------------------------------------------------------------------\u001b[0m",
            "\u001b[0;31mZeroDivisionError\u001b[0m                         Traceback (most recent call last)",
            "\u001b[0;32m<ipython-input-4-d9036cd106f6>\u001b[0m in \u001b[0;36m<cell line: 0>\u001b[0;34m()\u001b[0m\n\u001b[1;32m      2\u001b[0m \u001b[0mb\u001b[0m \u001b[0;34m=\u001b[0m \u001b[0;36m0\u001b[0m\u001b[0;34m\u001b[0m\u001b[0;34m\u001b[0m\u001b[0m\n\u001b[1;32m      3\u001b[0m \u001b[0;34m\u001b[0m\u001b[0m\n\u001b[0;32m----> 4\u001b[0;31m \u001b[0mresult\u001b[0m \u001b[0;34m=\u001b[0m \u001b[0ma\u001b[0m \u001b[0;34m/\u001b[0m \u001b[0mb\u001b[0m\u001b[0;34m\u001b[0m\u001b[0;34m\u001b[0m\u001b[0m\n\u001b[0m\u001b[1;32m      5\u001b[0m \u001b[0;34m\u001b[0m\u001b[0m\n\u001b[1;32m      6\u001b[0m \u001b[0mprint\u001b[0m\u001b[0;34m(\u001b[0m\u001b[0mresult\u001b[0m\u001b[0;34m)\u001b[0m\u001b[0;34m\u001b[0m\u001b[0;34m\u001b[0m\u001b[0m\n",
            "\u001b[0;31mZeroDivisionError\u001b[0m: division by zero"
          ]
        }
      ],
      "source": [
        "a = 10\n",
        "b = 0\n",
        "\n",
        "result = a / b\n",
        "\n",
        "print(result)"
      ]
    },
    {
      "cell_type": "markdown",
      "metadata": {},
      "source": [
        "---"
      ]
    },
    {
      "cell_type": "markdown",
      "metadata": {
        "id": "Rm1FQ0uZfZ6u"
      },
      "source": [
        "## 🧩 Functions\n",
        "\n",
        "Functions let you create reusable blocks of code - essential for keeping your scripts organized.\n",
        "\n",
        "This example defines a simple greeting function that takes a name parameter and then calls it for each name in a list, resulting in personalized greetings for Alice, Bob, and Charlie.\n",
        "\n",
        "✨ **Output:** Personalized greetings for Alice, Bob, and Charlie."
      ]
    },
    {
      "cell_type": "code",
      "execution_count": null,
      "metadata": {
        "id": "hFK164O-fZ6u"
      },
      "outputs": [],
      "source": [
        "def greet(name):\n",
        "    print(f\"Hello, {name}!\")\n",
        "\n",
        "names = [\"Alice\", \"Bob\", \"Charlie\"]\n",
        "for n in names:\n",
        "    greet(n)"
      ]
    },
    {
      "cell_type": "markdown",
      "metadata": {},
      "source": [
        "---"
      ]
    },
    {
      "cell_type": "markdown",
      "metadata": {
        "id": "oeztztbjfZ6v"
      },
      "source": [
        "## 📦 Modules and Packages\n",
        "\n",
        "Python's power comes from its vast ecosystem of modules. For DevOps, you'll use modules for AWS, Docker, SSH connections, and more.\n",
        "But for this example we'll use a simple math module\n",
        "\n",
        "This example imports the built-in math module and uses its sqrt() function to calculate the square root of 16, demonstrating how Python's module system provides access to pre-written, specialized functionality.\n",
        "\n",
        "✨ **Output:** `4.0` - the square root of 16.\n"
      ]
    },
    {
      "cell_type": "code",
      "execution_count": 6,
      "metadata": {
        "colab": {
          "base_uri": "https://localhost:8080/"
        },
        "id": "gaFPPHQ_fZ6v",
        "outputId": "0b9277b5-6cc6-4354-daf5-20a7480b5440"
      },
      "outputs": [
        {
          "name": "stdout",
          "output_type": "stream",
          "text": [
            "4.0\n"
          ]
        }
      ],
      "source": [
        "import math\n",
        "\n",
        "print(math.sqrt(16))"
      ]
    },
    {
      "cell_type": "markdown",
      "metadata": {},
      "source": [
        "---"
      ]
    },
    {
      "cell_type": "markdown",
      "metadata": {
        "id": "I_usDjTRizKL"
      },
      "source": [
        "## 🚀 What's Next?\n",
        "\n",
        "Nice work! You've covered the Python basics, Now move on to \"02-python-devops.md\" to learn about more dedicated examples for DevOps.\n"
      ]
    }
  ],
  "metadata": {
    "colab": {
      "provenance": []
    },
    "kernelspec": {
      "display_name": "Python 3",
      "language": "python",
      "name": "python3"
    },
    "language_info": {
      "codemirror_mode": {
        "name": "ipython",
        "version": 3
      },
      "file_extension": ".py",
      "mimetype": "text/x-python",
      "name": "python",
      "nbconvert_exporter": "python",
      "pygments_lexer": "ipython3",
      "version": "3.12.2"
    }
  },
  "nbformat": 4,
  "nbformat_minor": 0
}
